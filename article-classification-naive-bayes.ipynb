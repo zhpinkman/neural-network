{
  "nbformat": 4,
  "nbformat_minor": 0,
  "metadata": {
    "colab": {
      "name": "CA03",
      "provenance": [],
      "collapsed_sections": [],
      "toc_visible": true,
      "include_colab_link": true
    },
    "kernelspec": {
      "name": "python3",
      "display_name": "Python 3"
    }
  },
  "cells": [
    {
      "cell_type": "markdown",
      "metadata": {
        "id": "view-in-github",
        "colab_type": "text"
      },
      "source": [
        "<a href=\"https://colab.research.google.com/github/zhpinkman/neural-network/blob/master/article-classification-naive-bayes.ipynb\" target=\"_parent\"><img src=\"https://colab.research.google.com/assets/colab-badge.svg\" alt=\"Open In Colab\"/></a>"
      ]
    },
    {
      "cell_type": "code",
      "metadata": {
        "id": "o8yDKdiozUEK"
      },
      "source": [
        "import pandas as pd\n",
        "import numpy as np\n",
        "from tqdm import tqdm"
      ],
      "execution_count": null,
      "outputs": []
    },
    {
      "cell_type": "code",
      "metadata": {
        "id": "sE0IIf-px2sJ",
        "colab": {
          "base_uri": "https://localhost:8080/"
        },
        "outputId": "f2c5f9ce-a966-4fbe-e379-1c7f92d3400b"
      },
      "source": [
        "# Install PyDrive\n",
        "!pip install PyDrive\n",
        "\n",
        "#Import modules\n",
        "from pydrive.auth import GoogleAuth\n",
        "from pydrive.drive import GoogleDrive\n",
        "from google.colab import auth\n",
        "from oauth2client.client import GoogleCredentials\n",
        "\n",
        "#Authenticate and create the PyDrive client\n",
        "auth.authenticate_user()\n",
        "gauth = GoogleAuth()\n",
        "gauth.credentials = GoogleCredentials.get_application_default()\n",
        "drive = GoogleDrive(gauth)"
      ],
      "execution_count": null,
      "outputs": [
        {
          "output_type": "stream",
          "text": [
            "Requirement already satisfied: PyDrive in /usr/local/lib/python3.7/dist-packages (1.3.1)\n",
            "Requirement already satisfied: PyYAML>=3.0 in /usr/local/lib/python3.7/dist-packages (from PyDrive) (3.13)\n",
            "Requirement already satisfied: oauth2client>=4.0.0 in /usr/local/lib/python3.7/dist-packages (from PyDrive) (4.1.3)\n",
            "Requirement already satisfied: google-api-python-client>=1.2 in /usr/local/lib/python3.7/dist-packages (from PyDrive) (1.12.8)\n",
            "Requirement already satisfied: pyasn1-modules>=0.0.5 in /usr/local/lib/python3.7/dist-packages (from oauth2client>=4.0.0->PyDrive) (0.2.8)\n",
            "Requirement already satisfied: httplib2>=0.9.1 in /usr/local/lib/python3.7/dist-packages (from oauth2client>=4.0.0->PyDrive) (0.17.4)\n",
            "Requirement already satisfied: six>=1.6.1 in /usr/local/lib/python3.7/dist-packages (from oauth2client>=4.0.0->PyDrive) (1.15.0)\n",
            "Requirement already satisfied: pyasn1>=0.1.7 in /usr/local/lib/python3.7/dist-packages (from oauth2client>=4.0.0->PyDrive) (0.4.8)\n",
            "Requirement already satisfied: rsa>=3.1.4 in /usr/local/lib/python3.7/dist-packages (from oauth2client>=4.0.0->PyDrive) (4.7.2)\n",
            "Requirement already satisfied: google-auth-httplib2>=0.0.3 in /usr/local/lib/python3.7/dist-packages (from google-api-python-client>=1.2->PyDrive) (0.0.4)\n",
            "Requirement already satisfied: uritemplate<4dev,>=3.0.0 in /usr/local/lib/python3.7/dist-packages (from google-api-python-client>=1.2->PyDrive) (3.0.1)\n",
            "Requirement already satisfied: google-auth>=1.16.0 in /usr/local/lib/python3.7/dist-packages (from google-api-python-client>=1.2->PyDrive) (1.28.1)\n",
            "Requirement already satisfied: google-api-core<2dev,>=1.21.0 in /usr/local/lib/python3.7/dist-packages (from google-api-python-client>=1.2->PyDrive) (1.26.3)\n",
            "Requirement already satisfied: cachetools<5.0,>=2.0.0 in /usr/local/lib/python3.7/dist-packages (from google-auth>=1.16.0->google-api-python-client>=1.2->PyDrive) (4.2.1)\n",
            "Requirement already satisfied: setuptools>=40.3.0 in /usr/local/lib/python3.7/dist-packages (from google-auth>=1.16.0->google-api-python-client>=1.2->PyDrive) (56.0.0)\n",
            "Requirement already satisfied: requests<3.0.0dev,>=2.18.0 in /usr/local/lib/python3.7/dist-packages (from google-api-core<2dev,>=1.21.0->google-api-python-client>=1.2->PyDrive) (2.23.0)\n",
            "Requirement already satisfied: packaging>=14.3 in /usr/local/lib/python3.7/dist-packages (from google-api-core<2dev,>=1.21.0->google-api-python-client>=1.2->PyDrive) (20.9)\n",
            "Requirement already satisfied: googleapis-common-protos<2.0dev,>=1.6.0 in /usr/local/lib/python3.7/dist-packages (from google-api-core<2dev,>=1.21.0->google-api-python-client>=1.2->PyDrive) (1.53.0)\n",
            "Requirement already satisfied: pytz in /usr/local/lib/python3.7/dist-packages (from google-api-core<2dev,>=1.21.0->google-api-python-client>=1.2->PyDrive) (2018.9)\n",
            "Requirement already satisfied: protobuf>=3.12.0 in /usr/local/lib/python3.7/dist-packages (from google-api-core<2dev,>=1.21.0->google-api-python-client>=1.2->PyDrive) (3.12.4)\n",
            "Requirement already satisfied: chardet<4,>=3.0.2 in /usr/local/lib/python3.7/dist-packages (from requests<3.0.0dev,>=2.18.0->google-api-core<2dev,>=1.21.0->google-api-python-client>=1.2->PyDrive) (3.0.4)\n",
            "Requirement already satisfied: certifi>=2017.4.17 in /usr/local/lib/python3.7/dist-packages (from requests<3.0.0dev,>=2.18.0->google-api-core<2dev,>=1.21.0->google-api-python-client>=1.2->PyDrive) (2020.12.5)\n",
            "Requirement already satisfied: idna<3,>=2.5 in /usr/local/lib/python3.7/dist-packages (from requests<3.0.0dev,>=2.18.0->google-api-core<2dev,>=1.21.0->google-api-python-client>=1.2->PyDrive) (2.10)\n",
            "Requirement already satisfied: urllib3!=1.25.0,!=1.25.1,<1.26,>=1.21.1 in /usr/local/lib/python3.7/dist-packages (from requests<3.0.0dev,>=2.18.0->google-api-core<2dev,>=1.21.0->google-api-python-client>=1.2->PyDrive) (1.24.3)\n",
            "Requirement already satisfied: pyparsing>=2.0.2 in /usr/local/lib/python3.7/dist-packages (from packaging>=14.3->google-api-core<2dev,>=1.21.0->google-api-python-client>=1.2->PyDrive) (2.4.7)\n"
          ],
          "name": "stdout"
        }
      ]
    },
    {
      "cell_type": "code",
      "metadata": {
        "id": "Yc1sfZtSyqLD"
      },
      "source": [
        "downloaded = drive.CreateFile({'id':\"16Z56KEdMZ07wlLeVWfeWPf7Evgco1yOd\"})  # Train\n",
        "downloaded.GetContentFile('books_train.csv')       \n",
        "\n",
        "downloaded = drive.CreateFile({'id':\"1RN6Xaa3zRCWUpYuKdkiPE16gj4XCybWh\"})  # Test\n",
        "downloaded.GetContentFile('books_test.csv')       \n",
        "\n",
        "train_df = pd.read_csv('books_train.csv')\n",
        "test_df = pd.read_csv('books_test.csv')"
      ],
      "execution_count": null,
      "outputs": []
    },
    {
      "cell_type": "code",
      "metadata": {
        "id": "FVQw1hQkzkSN",
        "colab": {
          "base_uri": "https://localhost:8080/",
          "height": 243
        },
        "outputId": "16f40025-9fc4-479c-a997-8ffa3c136c1f"
      },
      "source": [
        "print(train_df.shape)\n",
        "print(test_df.shape)\n",
        "train_df.head()"
      ],
      "execution_count": null,
      "outputs": [
        {
          "output_type": "stream",
          "text": [
            "(2550, 3)\n",
            "(450, 3)\n"
          ],
          "name": "stdout"
        },
        {
          "output_type": "execute_result",
          "data": {
            "text/html": [
              "<div>\n",
              "<style scoped>\n",
              "    .dataframe tbody tr th:only-of-type {\n",
              "        vertical-align: middle;\n",
              "    }\n",
              "\n",
              "    .dataframe tbody tr th {\n",
              "        vertical-align: top;\n",
              "    }\n",
              "\n",
              "    .dataframe thead th {\n",
              "        text-align: right;\n",
              "    }\n",
              "</style>\n",
              "<table border=\"1\" class=\"dataframe\">\n",
              "  <thead>\n",
              "    <tr style=\"text-align: right;\">\n",
              "      <th></th>\n",
              "      <th>title</th>\n",
              "      <th>description</th>\n",
              "      <th>categories</th>\n",
              "    </tr>\n",
              "  </thead>\n",
              "  <tbody>\n",
              "    <tr>\n",
              "      <th>0</th>\n",
              "      <td>ساختار نظریه‌های جامعه‌شناسی ایران</td>\n",
              "      <td>«ساختار نظریه‌های جامعه‌شناسی ایران» نوشته ابو...</td>\n",
              "      <td>جامعه‌شناسی</td>\n",
              "    </tr>\n",
              "    <tr>\n",
              "      <th>1</th>\n",
              "      <td>جامعه و فرهنگ کانادا</td>\n",
              "      <td>«جامعه و فرهنگ کانادا» از مجموعه کتاب‌های «جام...</td>\n",
              "      <td>جامعه‌شناسی</td>\n",
              "    </tr>\n",
              "    <tr>\n",
              "      <th>2</th>\n",
              "      <td>پرسش از موعود</td>\n",
              "      <td>پرسش‌های مختلفی درباره زندگی و شخصیت امام مهدی...</td>\n",
              "      <td>کلیات اسلام</td>\n",
              "    </tr>\n",
              "    <tr>\n",
              "      <th>3</th>\n",
              "      <td>موج، دریا</td>\n",
              "      <td>«موج دریا» به قلم مهری ماهوتی (-۱۳۴۰) و تصویرگ...</td>\n",
              "      <td>داستان کودک و نوجوانان</td>\n",
              "    </tr>\n",
              "    <tr>\n",
              "      <th>4</th>\n",
              "      <td>پرسش از غرب</td>\n",
              "      <td>«پرسش از غرب» به قلم دکتر اسماعیل شفیعی سروستا...</td>\n",
              "      <td>جامعه‌شناسی</td>\n",
              "    </tr>\n",
              "  </tbody>\n",
              "</table>\n",
              "</div>"
            ],
            "text/plain": [
              "                                title  ...              categories\n",
              "0  ساختار نظریه‌های جامعه‌شناسی ایران  ...             جامعه‌شناسی\n",
              "1                جامعه و فرهنگ کانادا  ...             جامعه‌شناسی\n",
              "2                       پرسش از موعود  ...             کلیات اسلام\n",
              "3                           موج، دریا  ...  داستان کودک و نوجوانان\n",
              "4                         پرسش از غرب  ...             جامعه‌شناسی\n",
              "\n",
              "[5 rows x 3 columns]"
            ]
          },
          "metadata": {
            "tags": []
          },
          "execution_count": 6
        }
      ]
    },
    {
      "cell_type": "code",
      "metadata": {
        "id": "mFmMywtmnEi1",
        "colab": {
          "base_uri": "https://localhost:8080/"
        },
        "outputId": "34199517-5992-465d-d7c5-357676d69740"
      },
      "source": [
        "print(train_df['categories'].value_counts())\n",
        "print(test_df['categories'].value_counts())"
      ],
      "execution_count": null,
      "outputs": [
        {
          "output_type": "stream",
          "text": [
            "داستان کوتاه              425\n",
            "داستان کودک و نوجوانان    425\n",
            "مدیریت و کسب و کار        425\n",
            "کلیات اسلام               425\n",
            "جامعه‌شناسی               425\n",
            "رمان                      425\n",
            "Name: categories, dtype: int64\n",
            "داستان کوتاه              75\n",
            "رمان                      75\n",
            "داستان کودک و نوجوانان    75\n",
            "کلیات اسلام               75\n",
            "جامعه‌شناسی               75\n",
            "مدیریت و کسب و کار        75\n",
            "Name: categories, dtype: int64\n"
          ],
          "name": "stdout"
        }
      ]
    },
    {
      "cell_type": "code",
      "metadata": {
        "id": "rkvFs3Qyqdxm",
        "colab": {
          "base_uri": "https://localhost:8080/"
        },
        "outputId": "a663fa44-c06a-49c8-80ab-603aec841306"
      },
      "source": [
        "!npx degit mhbashari/awesome-persian-nlp-ir/ -f\n",
        "def remove_bad_chars(df):\n",
        "    bad_chars = ['\\n', '\\r', '\\.']\n",
        "    # bad_chars.extend([\"کتاب\", \"مجموعه\"])\n",
        "    for bad_char in bad_chars:\n",
        "        df = df.str.replace(bad_char, ' ')\n",
        "    df = df.str.replace('[^\\w\\s]', ' ')  # Remove all punctuations (nim fasele ham)\n",
        "\n",
        "    with open(\"stopwords.txt\") as stopwords_file:\n",
        "        for stopword in tqdm(stopwords_file):\n",
        "            # print(stopword.strip(), end=\", \")\n",
        "            # print(df[0])\n",
        "            df = df.str.replace(' ' + stopword.strip() + ' ', ' ', regex=False)\n",
        "    df = df.replace('\\s+', ' ', regex=True)\n",
        "    return df"
      ],
      "execution_count": null,
      "outputs": [
        {
          "output_type": "stream",
          "text": [
            "\u001b[K\u001b[?25hnpx: installed 1 in 3.15s\n",
            "\u001b[36m> destination directory is not empty. Using --force, continuing\u001b[39m\n",
            "\u001b[36m> cloned \u001b[1mmhbashari/awesome-persian-nlp-ir\u001b[22m#\u001b[1mHEAD\u001b[22m\u001b[39m\n"
          ],
          "name": "stdout"
        }
      ]
    },
    {
      "cell_type": "code",
      "metadata": {
        "id": "SLAQ9aJs2S-b",
        "colab": {
          "base_uri": "https://localhost:8080/",
          "height": 534
        },
        "outputId": "0f6e50ec-1f59-4263-8ca0-32af89d8ceb3"
      },
      "source": [
        "clean_train_df = train_df.copy()\n",
        "clean_train_df['title'] = remove_bad_chars(clean_train_df['title'])\n",
        "clean_train_df['description'] = remove_bad_chars(clean_train_df['description'])\n",
        "clean_train_df['categories'] = remove_bad_chars(clean_train_df['categories'])\n",
        "clean_test_df = test_df.copy()\n",
        "clean_test_df['title'] = remove_bad_chars(clean_test_df['title'])\n",
        "clean_test_df['description'] = remove_bad_chars(clean_test_df['description'])\n",
        "clean_test_df['categories'] = remove_bad_chars(clean_test_df['categories'])\n",
        "\n",
        "clean_train_df['description'] = clean_train_df['title'] + \" \" + clean_train_df['description']\n",
        "clean_test_df['description'] = clean_test_df['title'] + \" \" + clean_test_df['description']\n",
        "\n",
        "# delete_cats = [\"جامعه شناسی\", \"کلیات اسلام\", \"رمان\", \"داستان کوتاه\"]\n",
        "# for c in delete_cats:\n",
        "#     clean_train_df = clean_train_df[clean_train_df['categories'] != c]\n",
        "#     clean_test_df = clean_test_df[clean_test_df['categories'] != c]\n",
        "\n",
        "clean_train_df.index = np.arange(1, len(clean_train_df) + 1)\n",
        "clean_test_df.index = np.arange(1, len(clean_test_df) + 1)\n",
        "clean_train_df"
      ],
      "execution_count": null,
      "outputs": [
        {
          "output_type": "stream",
          "text": [
            "1263it [00:02, 555.08it/s]\n",
            "1263it [00:08, 151.26it/s]\n",
            "1263it [00:01, 651.59it/s]\n",
            "1263it [00:00, 1503.55it/s]\n",
            "1263it [00:01, 680.45it/s]\n",
            "1263it [00:00, 1705.17it/s]\n"
          ],
          "name": "stderr"
        },
        {
          "output_type": "execute_result",
          "data": {
            "text/html": [
              "<div>\n",
              "<style scoped>\n",
              "    .dataframe tbody tr th:only-of-type {\n",
              "        vertical-align: middle;\n",
              "    }\n",
              "\n",
              "    .dataframe tbody tr th {\n",
              "        vertical-align: top;\n",
              "    }\n",
              "\n",
              "    .dataframe thead th {\n",
              "        text-align: right;\n",
              "    }\n",
              "</style>\n",
              "<table border=\"1\" class=\"dataframe\">\n",
              "  <thead>\n",
              "    <tr style=\"text-align: right;\">\n",
              "      <th></th>\n",
              "      <th>title</th>\n",
              "      <th>description</th>\n",
              "      <th>categories</th>\n",
              "    </tr>\n",
              "  </thead>\n",
              "  <tbody>\n",
              "    <tr>\n",
              "      <th>1</th>\n",
              "      <td>ساختار نظریه جامعه ایران</td>\n",
              "      <td>ساختار نظریه جامعه ایران  ساختار نظریه جامعه ا...</td>\n",
              "      <td>جامعه شناسی</td>\n",
              "    </tr>\n",
              "    <tr>\n",
              "      <th>2</th>\n",
              "      <td>جامعه فرهنگ کانادا</td>\n",
              "      <td>جامعه فرهنگ کانادا  جامعه فرهنگ کانادا مجموعه ...</td>\n",
              "      <td>جامعه شناسی</td>\n",
              "    </tr>\n",
              "    <tr>\n",
              "      <th>3</th>\n",
              "      <td>پرسش موعود</td>\n",
              "      <td>پرسش موعود پرسش مختلفی زندگی شخصیت امام مهدی ع...</td>\n",
              "      <td>کلیات اسلام</td>\n",
              "    </tr>\n",
              "    <tr>\n",
              "      <th>4</th>\n",
              "      <td>موج دریا</td>\n",
              "      <td>موج دریا  موج دریا قلم مهری ماهوتی ۱۳۴۰ تصویرگ...</td>\n",
              "      <td>داستان کودک نوجوانان</td>\n",
              "    </tr>\n",
              "    <tr>\n",
              "      <th>5</th>\n",
              "      <td>پرسش غرب</td>\n",
              "      <td>پرسش غرب  پرسش غرب قلم دکتر اسماعیل شفیعی سروس...</td>\n",
              "      <td>جامعه شناسی</td>\n",
              "    </tr>\n",
              "    <tr>\n",
              "      <th>...</th>\n",
              "      <td>...</td>\n",
              "      <td>...</td>\n",
              "      <td>...</td>\n",
              "    </tr>\n",
              "    <tr>\n",
              "      <th>2546</th>\n",
              "      <td>قضاوت امیرمؤمنان حضرت علی السلام</td>\n",
              "      <td>قضاوت امیرمؤمنان حضرت علی السلام آنچه قضاوت ام...</td>\n",
              "      <td>کلیات اسلام</td>\n",
              "    </tr>\n",
              "    <tr>\n",
              "      <th>2547</th>\n",
              "      <td>کراماتی مهدی موعود عج</td>\n",
              "      <td>کراماتی مهدی موعود عج  زینب محمودی پژوهشگر دین...</td>\n",
              "      <td>کلیات اسلام</td>\n",
              "    </tr>\n",
              "    <tr>\n",
              "      <th>2548</th>\n",
              "      <td>انتقام انتقام انتقام</td>\n",
              "      <td>انتقام انتقام انتقام  انتقام انتقام انتقام داس...</td>\n",
              "      <td>داستان کوتاه</td>\n",
              "    </tr>\n",
              "    <tr>\n",
              "      <th>2549</th>\n",
              "      <td>آن مرد آید</td>\n",
              "      <td>آن مرد آید  مرد قلم سیده فاطمه موسوی تصویرگری ...</td>\n",
              "      <td>داستان کودک نوجوانان</td>\n",
              "    </tr>\n",
              "    <tr>\n",
              "      <th>2550</th>\n",
              "      <td>امید پاسخ ۱۱۰ پرسش جوانان امام السلام</td>\n",
              "      <td>امید پاسخ ۱۱۰ پرسش جوانان امام السلام عباس رحی...</td>\n",
              "      <td>کلیات اسلام</td>\n",
              "    </tr>\n",
              "  </tbody>\n",
              "</table>\n",
              "<p>2550 rows × 3 columns</p>\n",
              "</div>"
            ],
            "text/plain": [
              "                                      title  ...            categories\n",
              "1                  ساختار نظریه جامعه ایران  ...           جامعه شناسی\n",
              "2                        جامعه فرهنگ کانادا  ...           جامعه شناسی\n",
              "3                                پرسش موعود  ...           کلیات اسلام\n",
              "4                                  موج دریا  ...  داستان کودک نوجوانان\n",
              "5                                  پرسش غرب  ...           جامعه شناسی\n",
              "...                                     ...  ...                   ...\n",
              "2546       قضاوت امیرمؤمنان حضرت علی السلام  ...           کلیات اسلام\n",
              "2547                 کراماتی مهدی موعود عج   ...           کلیات اسلام\n",
              "2548                   انتقام انتقام انتقام  ...          داستان کوتاه\n",
              "2549                             آن مرد آید  ...  داستان کودک نوجوانان\n",
              "2550  امید پاسخ ۱۱۰ پرسش جوانان امام السلام  ...           کلیات اسلام\n",
              "\n",
              "[2550 rows x 3 columns]"
            ]
          },
          "metadata": {
            "tags": []
          },
          "execution_count": 9
        }
      ]
    },
    {
      "cell_type": "code",
      "metadata": {
        "id": "Rv1H8ITI-lpF"
      },
      "source": [
        "import operator\n",
        "from tqdm import tqdm\n",
        "\n",
        "class Bayes_classifier:\n",
        "    def __init__(self, mode):\n",
        "        self.target_classes = []\n",
        "        self.token_to_count = None  # token_to_count[class][token]\n",
        "        self.total_tokens_count = dict()\n",
        "        self.vocab_size = None\n",
        "        self.mode = mode\n",
        "    # Private\n",
        "    def count_tokens(self, df, input_col, target_col):\n",
        "        token_to_count = dict()\n",
        "        for row_index in df.index:\n",
        "            target_class = df[target_col][row_index]\n",
        "            if target_class not in token_to_count:\n",
        "                token_to_count[target_class] = dict()\n",
        "            for token in df[input_col][row_index].split():\n",
        "                if token not in token_to_count[target_class]:\n",
        "                    token_to_count[target_class][token] = 1\n",
        "                else:\n",
        "                    token_to_count[target_class][token] += 1\n",
        "        return token_to_count\n",
        "\n",
        "    def count_tokens_bigram(self, df, input_col, target_col):\n",
        "        token_to_count = dict()\n",
        "        for row_index in df.index:\n",
        "            target_class = df[target_col][row_index]\n",
        "            if target_class not in token_to_count:\n",
        "                token_to_count[target_class] = dict()\n",
        "            tokens = df[input_col][row_index].split()\n",
        "            for token_index in range(len(tokens) - 1):\n",
        "                if (tokens[token_index],tokens[token_index + 1]) not in token_to_count[target_class]:\n",
        "                    token_to_count[target_class][(tokens[token_index],tokens[token_index + 1])] = 1\n",
        "                else:\n",
        "                    token_to_count[target_class][(tokens[token_index],tokens[token_index + 1])] += 1\n",
        "        return token_to_count\n",
        "    \n",
        "    # Private\n",
        "    def count_classes_total_tokens(self):\n",
        "        vocab_set = set()\n",
        "        for target_class in self.target_classes:\n",
        "            self.total_tokens_count[target_class] = sum(list(self.token_to_count[target_class].values()))\n",
        "            vocab_set.update(list(self.token_to_count[target_class].keys()))\n",
        "        self.vocab_size = len(vocab_set)\n",
        "        print(\"Vocab Size:\", self.vocab_size)\n",
        "\n",
        "    # Private\n",
        "    def calculate_token_score(self, token, target_class, method=\"none\"):\n",
        "        if method == \"additive smoothing\":\n",
        "            return (self.token_to_count[target_class].get(token, 0) + 1) / (self.total_tokens_count[target_class] + self.vocab_size + 1)\n",
        "        else:\n",
        "            return self.token_to_count[target_class].get(token, 0) / self.total_tokens_count[target_class]\n",
        "\n",
        "    # Public\n",
        "    def train(self, train_df, input_col, target_col):\n",
        "        if self.mode == 'unigram':\n",
        "            self.token_to_count = self.count_tokens(train_df, input_col, target_col)\n",
        "        else: \n",
        "            self.token_to_count = self.count_tokens_bigram(train_df, input_col, target_col)\n",
        "        self.target_classes = list(self.token_to_count.keys())\n",
        "        self.count_classes_total_tokens()\n",
        "        print(\"Total Tokens in Each Class:\\n\", self.total_tokens_count)\n",
        "\n",
        "    # Public\n",
        "    def predict_one_unigram(self, test_input, method=\"none\"):\n",
        "        class_scores = dict()\n",
        "        for target_class in self.target_classes:\n",
        "            # print(target_class)\n",
        "            class_scores[target_class] = 1\n",
        "            for token in test_input.split():\n",
        "                # print(token, self.token_to_count[target_class].get(token, 0.5) / self.total_tokens_count[target_class])\n",
        "                class_scores[target_class] += np.log(self.calculate_token_score(token, target_class, method))\n",
        "            # class_scores[target_class] *= self.total_tokens_count[target_class] / sum(list(self.total_tokens_count.values()))\n",
        "        return class_scores\n",
        "    def predict_one_bigram(self, test_input, method=\"none\"):\n",
        "        class_scores = dict()\n",
        "        for target_class in self.target_classes:\n",
        "            # print(target_class)\n",
        "            class_scores[target_class] = 1\n",
        "            tokens = test_input.split()\n",
        "            for token_index in range(len(tokens) - 1):\n",
        "                # print(token, self.token_to_count[target_class].get(token, 0.5) / self.total_tokens_count[target_class])\n",
        "                class_scores[target_class] += np.log(self.calculate_token_score((tokens[token_index],tokens[token_index + 1]), target_class, method))\n",
        "            # class_scores[target_class] *= self.total_tokens_count[target_class] / sum(list(self.total_tokens_count.values()))\n",
        "        return class_scores\n",
        "    \n",
        "    # Public\n",
        "    def predict_all(self, test_df, input_col, method=\"none\"):\n",
        "        df = test_df\n",
        "        results = []\n",
        "        for row_index in tqdm(df.index):\n",
        "            if self.mode == 'unigram':\n",
        "                scores = self.predict_one_unigram(df[input_col][row_index], method)\n",
        "            else:\n",
        "                scores = self.predict_one_bigram(df[input_col][row_index], method)\n",
        "            max_class = max(scores.items(), key=operator.itemgetter(1))[0]\n",
        "            results.append(max_class)\n",
        "        return results\n",
        "    def predict_one(self, test_input, method='none'):\n",
        "        if self.mode == 'unigram':\n",
        "            return self.predict_one_unigram(test_input, method)\n",
        "        else:\n",
        "            return self.predict_one_bigram(test_input, method)\n",
        "    \n",
        "    def get_classes(self):\n",
        "        return self.target_classes\n",
        "\n",
        "    def get_best_tokens(self, n=5):\n",
        "        best_tokens = dict()\n",
        "        for c in self.target_classes:\n",
        "            best_tokens[c] = dict(sorted(self.token_to_count[c].items(), key=operator.itemgetter(1), reverse=True)[:n])\n",
        "        return best_tokens\n"
      ],
      "execution_count": null,
      "outputs": []
    },
    {
      "cell_type": "code",
      "metadata": {
        "id": "Y8JrJX5XC-cI",
        "colab": {
          "base_uri": "https://localhost:8080/",
          "height": 757
        },
        "outputId": "247719ac-6c0e-4225-8c69-61bd1a748459"
      },
      "source": [
        "!pip install arabic-reshaper\n",
        "!pip install python-bidi\n",
        "import matplotlib.pyplot as plt\n",
        "from bidi.algorithm import get_display\n",
        "from arabic_reshaper import reshape\n",
        "\n",
        "mode = 'unigram'\n",
        "\n",
        "bayes_classifier = Bayes_classifier(mode)\n",
        "bayes_classifier.train(clean_train_df, 'description', 'categories')\n",
        "best_tokens = bayes_classifier.get_best_tokens()\n",
        "\n",
        "plt.figure(figsize=(15, 8))\n",
        "for i, c in enumerate(best_tokens):\n",
        "    plt.subplot(2, 3, i+1)\n",
        "    plt.gca().set_title(get_display(reshape(c)))\n",
        "    if mode == 'unigram':\n",
        "        plt.bar([get_display(reshape(label)) for label in best_tokens[c].keys()], best_tokens[c].values(), color='g')\n",
        "    else:\n",
        "        plt.bar([get_display(reshape(' '.join(label))) for label in best_tokens[c].keys()], best_tokens[c].values(), color='g')\n",
        "plt.show()"
      ],
      "execution_count": null,
      "outputs": [
        {
          "output_type": "stream",
          "text": [
            "Collecting arabic-reshaper\n",
            "  Downloading https://files.pythonhosted.org/packages/47/27/7b9b824f5342d8ee180027333f2e15842ea36f5bc2d3d24a4e6bb31fb596/arabic_reshaper-2.1.3-py3-none-any.whl\n",
            "Requirement already satisfied: future in /usr/local/lib/python3.7/dist-packages (from arabic-reshaper) (0.16.0)\n",
            "Requirement already satisfied: setuptools in /usr/local/lib/python3.7/dist-packages (from arabic-reshaper) (56.0.0)\n",
            "Installing collected packages: arabic-reshaper\n",
            "Successfully installed arabic-reshaper-2.1.3\n",
            "Collecting python-bidi\n",
            "  Downloading https://files.pythonhosted.org/packages/33/b0/f942d146a2f457233baaafd6bdf624eba8e0f665045b4abd69d1b62d097d/python_bidi-0.4.2-py2.py3-none-any.whl\n",
            "Requirement already satisfied: six in /usr/local/lib/python3.7/dist-packages (from python-bidi) (1.15.0)\n",
            "Installing collected packages: python-bidi\n",
            "Successfully installed python-bidi-0.4.2\n",
            "Vocab Size: 28232\n",
            "Total Tokens in Each Class:\n",
            " {'جامعه شناسی': 49666, 'کلیات اسلام': 36857, 'داستان کودک نوجوانان': 22010, 'داستان کوتاه': 45348, 'مدیریت کسب کار': 39803, 'رمان': 58805}\n"
          ],
          "name": "stdout"
        },
        {
          "output_type": "display_data",
          "data": {
            "image/png": "[encoded data removed]",
            "text/plain": [
              "<Figure size 1080x576 with 6 Axes>"
            ]
          },
          "metadata": {
            "tags": [],
            "needs_background": "light"
          }
        }
      ]
    },
    {
      "cell_type": "code",
      "metadata": {
        "colab": {
          "base_uri": "https://localhost:8080/"
        },
        "id": "7TgMfdnbX_oO",
        "outputId": "ffa5c3a0-4911-4a86-f657-d66b8706f6a4"
      },
      "source": [
        "bayes_classifier.predict_one(\"نوجوانان\")"
      ],
      "execution_count": null,
      "outputs": [
        {
          "output_type": "stream",
          "text": [
            "/usr/local/lib/python3.7/dist-packages/ipykernel_launcher.py:73: RuntimeWarning: divide by zero encountered in log\n"
          ],
          "name": "stderr"
        },
        {
          "output_type": "execute_result",
          "data": {
            "text/plain": [
              "{'جامعه شناسی': -7.510490780356562,\n",
              " 'داستان کوتاه': -8.62350906446938,\n",
              " 'داستان کودک نوجوانان': -4.317120947396288,\n",
              " 'رمان': -7.342924834669878,\n",
              " 'مدیریت کسب کار': -inf,\n",
              " 'کلیات اسلام': -7.435359297192102}"
            ]
          },
          "metadata": {
            "tags": []
          },
          "execution_count": 12
        }
      ]
    },
    {
      "cell_type": "code",
      "metadata": {
        "colab": {
          "base_uri": "https://localhost:8080/"
        },
        "id": "e_2fu0ReapmN",
        "outputId": "ac00b1db-64c4-4287-b70e-e33aee2aa8e3"
      },
      "source": [
        "results = bayes_classifier.predict_all(clean_test_df, 'description', method='additive smoothing')\n",
        "# results = bayes_classifier.predict_all(clean_test_df, 'description', method='none')"
      ],
      "execution_count": null,
      "outputs": [
        {
          "output_type": "stream",
          "text": [
            "100%|██████████| 450/450 [00:00<00:00, 673.07it/s]\n"
          ],
          "name": "stderr"
        }
      ]
    },
    {
      "cell_type": "code",
      "metadata": {
        "id": "_TB-kQdYdby3"
      },
      "source": [
        "from sklearn.metrics import f1_score\n",
        "from sklearn.metrics import classification_report\n",
        "def evaluate(predictions, reference):\n",
        "    true = dict()\n",
        "    false = dict()\n",
        "    total_true = 0\n",
        "    total_false = 0\n",
        "    for c in bayes_classifier.get_classes():\n",
        "        true[c] = 0\n",
        "        false[c] = 0\n",
        "\n",
        "    for i in range(len(predictions)):\n",
        "        if predictions[i] == reference[i]:\n",
        "            total_true += 1\n",
        "            true[predictions[i]] += 1\n",
        "        else:\n",
        "            total_false += 1\n",
        "            false[predictions[i]] += 1\n",
        "    print(\"#Total_true:\", total_true, \"#Total_false:\", total_false)\n",
        "    print(\"CLASS ERRORS:\\n\", false)\n",
        "    print(classification_report(reference, predictions))\n",
        "    return f1_score(reference, predictions, average=None, labels=bayes_classifier.get_classes())"
      ],
      "execution_count": null,
      "outputs": []
    },
    {
      "cell_type": "code",
      "metadata": {
        "colab": {
          "base_uri": "https://localhost:8080/"
        },
        "id": "Be4ITtxUd1-t",
        "outputId": "7062743e-0164-4573-cd1d-29070b8a1a69"
      },
      "source": [
        "print(\"#Total tests:\", len(results))\n",
        "print(evaluate(results, clean_test_df[\"categories\"].to_list()))\n",
        "print(results[5:6])\n",
        "print(clean_test_df[\"categories\"].to_list()[5:6])"
      ],
      "execution_count": null,
      "outputs": [
        {
          "output_type": "stream",
          "text": [
            "#Total tests: 450\n",
            "#Total_true: 373 #Total_false: 77\n",
            "CLASS ERRORS:\n",
            " {'جامعه شناسی': 18, 'کلیات اسلام': 8, 'داستان کودک نوجوانان': 3, 'داستان کوتاه': 17, 'مدیریت کسب کار': 5, 'رمان': 26}\n",
            "                      precision    recall  f1-score   support\n",
            "\n",
            "         جامعه شناسی       0.79      0.89      0.84        75\n",
            "        داستان کوتاه       0.76      0.72      0.74        75\n",
            "داستان کودک نوجوانان       0.95      0.75      0.84        75\n",
            "                رمان       0.71      0.85      0.78        75\n",
            "      مدیریت کسب کار       0.93      0.93      0.93        75\n",
            "         کلیات اسلام       0.89      0.83      0.86        75\n",
            "\n",
            "            accuracy                           0.83       450\n",
            "           macro avg       0.84      0.83      0.83       450\n",
            "        weighted avg       0.84      0.83      0.83       450\n",
            "\n",
            "[0.8375     0.85517241 0.8358209  0.73972603 0.93333333 0.77575758]\n",
            "['جامعه شناسی']\n",
            "['کلیات اسلام']\n"
          ],
          "name": "stdout"
        }
      ]
    },
    {
      "cell_type": "code",
      "metadata": {
        "colab": {
          "base_uri": "https://localhost:8080/"
        },
        "id": "q33MCoJhiwij",
        "outputId": "89d5ef05-01cb-4437-8c32-6a1d66dec128"
      },
      "source": [
        "num_errors_to_print = 5\n",
        "error_counter = 0\n",
        "i = 0\n",
        "while error_counter < num_errors_to_print:\n",
        "    if results[i] != clean_test_df[\"categories\"].to_list()[i]:\n",
        "        print(i, \"LABEL:\", clean_test_df[\"categories\"].to_list()[i], \"PRED:\", results[i], \"\\nTEXT:\", clean_test_df[\"description\"].to_list()[i])\n",
        "        print(\"-----------\")\n",
        "        error_counter += 1\n",
        "    i += 1"
      ],
      "execution_count": null,
      "outputs": [
        {
          "output_type": "stream",
          "text": [
            "0 LABEL: داستان کوتاه PRED: رمان \n",
            "TEXT: کآشوب  کآشوب سه روایت روضه زندگی همت نفیسه مرشدزاده جمع آوری کآشوب روایت نسبت نسل متفاوت واقعه سال ۶۱ هجری شهادت مظلومانه امام حسین السلام نویسندگان شغل گرایش قرار لحن توصیفی نسبت شخصی زیسته مجالس گزارش دل دست و شیفتگی متن زده مجموعه ذره مداوم اثری حوزه عاشورا محرم تولید محض تولد هزارانی دوره ساحت واقعه نشدنی پیشکش روایت هفتم فراز تپه علی غبیشاوی شانزده هفده ساله سه ماه تابستان تعطیلات سال نو قم کاری رفتیم خوزستان روستای پدری حاج بابا اولین محرم افتاده تعطیلات اولین محرم قم نبودیم اتصالی سیم باندهای حیاط وصله زدم میخ درآمده پایه عقبی منبر چکش جایش برمی گرداندم نردبان تار عنکبوت گوشه حسینیه ماه قم روبه نامانوس عزاداری عربی عادت دلهره دلهره شروع دهه محرم سه عاشورا برگشتم قم زندگی طولانی دور خوزستان و حضورم جمع عرب زبان شهر منحصر صحبت عربی خانواده وگوی روزمره دایره لغات عربی محدود ساختار زبان پیچیده نیمچه فاخر سخنران حسینیه حاج بابا آوردم معنای کلمات ترجیع بندها ابوذیه مصیبت خوانی حاضران حسینیه دست پهنای گریبان اشک ریختند ناله توریستی شهری غریب وسط بنشینی زل بزنی آدم دلیل تأثرشان دقیق فهمی \n",
            "-----------\n",
            "5 LABEL: کلیات اسلام PRED: جامعه شناسی \n",
            "TEXT: اسلام چالش اقتصادی  اسلام چالش اقتصادی نوشته محمد عمر چپرا ۱۹۳۳ نظریه پرداز پاکستانی اقتصاد اسلامی اقتصاد اسلامی کشورهای اسلامی عربستان سعودی پاکستان مالزی مصر توج محمد چپرا نجات الل صدیقی منذر قحف خورشید احمد جمله نظریه پردازان حوزه اقتصاد اسلامی دولت متعددی اجرای اقتصاد اسلامی زمینۀ بانکداری افتاده مؤسسات متعددی بانک توسعه اسلامی المعهد العالمی للفکر الاسلامی سرمایه هنگفتی وقف پژوهش اقتصاد اسلامی مطالعات اقتصاد اسلامی پول بانکداری مالیه اقتصاد رد کلان توسعه اقتصادی عمیق گسترده کتاب متعددی نگاشته کتابی توان تصویری جامع علمی تحقق کارآمد مقایسه نظام مرسوم دنیا نظام اقتصادی اسلام ارائه اساس تبیین راهبرد اصلاحات تغییر نظام موجود نظام مطلوب اسلامی بپردازد کتاب اسلام چالش اقتصادی نوشتۀ دکتر محمدعمر چپرا ویژگی دارا دکتر محمدسعید النابلسی رئیس بانک مرکزی اردن مقدمۀ کتاب کتاب همکارم دکتر چپرا نوشته ابداع علمی معاصر کوششی همتا روشی مستحکم استدلالی هدف تأکید شمولیت دین حنیف اسلام همۀ ابعاد حیات انسانی زمینۀ فردی اقتصادی سیاسی اجتماعی اخلاقی کتاب حرکت علمی آزموده حرکت فکری منظمی خروج سلطۀ اقتصاد معاصر نظام اقتصادی نظام اسلامی \n",
            "-----------\n",
            "12 LABEL: داستان کوتاه PRED: رمان \n",
            "TEXT: زندانی قلعه قهقهه رمان تاریخی زندانی قلعه قهقهه روایت گر سرگذشت قهرمانی شاه اسماعیل صفوی شاه ایران سال ۸۹۲ ۹۳۰ داستان شروع مرادبیگ نایب الحکومه قلعه قهقهه مردی تندخو زنی زیبا قمر سلطان دختری دل فریب گل حرم دوران مهم زندانی قلعه شاه زاده اسماعیل میرزا فرزند شاه تهماسب تصمیم گل حرم ازدواج شرایطی عشق گل حرم کینه دشمنی تبدیل اسماعیل میرزا قزوین رود گل حرم اطلاع ماند گذشت سال گل حرم قزوین سفر سفر اتفاقات گوناگونی رخ هریک تجربه گل حرم محسوب گل حرم تصمیم شاه زاده اسماعیل شاهزاده بیند علت رفتن رخدادهای گوناگون دل نگرانی فراهم سازد سرنوشت گل حرم \n",
            "-----------\n",
            "14 LABEL: داستان کودک نوجوانان PRED: رمان \n",
            "TEXT: مطلقا   مطلقا نوشته لیسا گراف ۱۹۷۴ نویسنده آمریکایی کتاب کودکان نوجوانان کتاب رمانی نوجوانان صحبت کشف کاری دوست آلبی زرنگ شاگرد کلاس نبوده بلندترین نبوده ورزش نبوده هنرمند نبوده عوض آلبی یه لیست بلندبالایی چیزهایی آلبی پرستار جدیدی آشنا کمک بفهمد چیزهایی کارها مفتخر کتاب خوانیم فهمیدم درن بقیه بچه بدجنس دختره آدامس خرسی ـ ـ ـ بتسی حسابی کلمه مخصوصا کلمه خانم رز کلاس خط درسمان بلند بلند بخواند متوجه موضوع پسرها هرهر خندیدند دختره قرمز صدایش آهسته شنیده خانم رز متشکرم بتسی عالی بتسی حرف زند کالیستا موضوع سؤال کالیستا بتسی لکنت زبان حرف آدم بتسی خوشم ناهار اسم آدامس آدامس خرسی کار کتابخانه انتخاب خانم رز کارت اطلاعات آنلاین کتاب توضیح گیج بتسی مسخره نکرد درستی کلیک نشانم مهم بتسی حرف زد آدم منظورش وقت منظورش فهمم \n",
            "-----------\n",
            "20 LABEL: کلیات اسلام PRED: رمان \n",
            "TEXT: فاطمه علی است  فاطمه علی نوشته علی قهرمانی کتابی زندگی مشترک حضرت زهرا حضرت علی اثر الگویی زندگی مشترک زوج جوان گذشت ایثار همدلی همراهی عشق مهرورزی درس داستان زندگی ازدواج آغاز زندگی مشترک رسول خدا آمدند پیامبر معلم زندگی تدبیر منزل انسان نوبت کارهای خانه پیامبر پیشنهاد کارهای خانه فاطمه کارهای خانه علی لبخند لبان فاطمه نشست خدامی داند تقسیم خوشحالم کارهای خانه زهرا خوشحال راضی سعادتمندی زن دلیل گذر نامحرم نباشد آرد جو گندم پخت نان طبخ آماده غذا دوش فاطمه کارهای مربوط خانه رسیدگی بچه بازی علی آب خوردن تهیه منزل هیزم خریدهای خانه غیره کارهای منزل فرصتی خانه جارو زهرایش کارهای خانه کمک پیامبر مهمان خانه مهمان موعد دختر دامادش دید نشسته پاک عدس لبخندی خرسندی خوشحالی خدا مردی کار خانه همسرش کمک اندازه موهای بدنش ثواب عبادت \n",
            "-----------\n"
          ],
          "name": "stdout"
        }
      ]
    },
    {
      "cell_type": "markdown",
      "metadata": {
        "id": "pXVRvpvOsJsr"
      },
      "source": [
        "## --------------------------------------------DONE-------------------------"
      ]
    },
    {
      "cell_type": "code",
      "metadata": {
        "id": "C6RiL22NkWQL"
      },
      "source": [
        ""
      ],
      "execution_count": null,
      "outputs": []
    }
  ]
}